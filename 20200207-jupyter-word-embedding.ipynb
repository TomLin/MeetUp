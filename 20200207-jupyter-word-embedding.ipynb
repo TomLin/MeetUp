{
 "cells": [
  {
   "cell_type": "markdown",
   "metadata": {},
   "source": [
    "# Performance of Different Word Embeddings on Text Classification\n",
    "\n",
    "## Compared among word2vec, TF-IDF weighted, GloVe and doc2vec"
   ]
  },
  {
   "cell_type": "code",
   "execution_count": 2,
   "metadata": {},
   "outputs": [],
   "source": [
    "%load_ext autoreload\n",
    "%autoreload 2"
   ]
  },
  {
   "cell_type": "code",
   "execution_count": 3,
   "metadata": {},
   "outputs": [],
   "source": [
    "import pandas as pd\n",
    "import numpy as np\n",
    "from numpy import random\n",
    "import gensim\n",
    "import spacy\n",
    "import nltk\n",
    "import os\n",
    "import pickle\n",
    "\n",
    "import matplotlib.pyplot as plt\n",
    "import re\n",
    "import warnings\n",
    "warnings.simplefilter('ignore')\n",
    "pd.set_option('max_colwidth',1000)\n",
    "\n",
    "\n",
    "%matplotlib inline"
   ]
  },
  {
   "cell_type": "markdown",
   "metadata": {},
   "source": [
    "# Abstract"
   ]
  },
  {
   "cell_type": "markdown",
   "metadata": {},
   "source": [
    "## Quick Summary\n",
    "\n",
    "| WordEmbedding Method        | F1 Score - Training | F1 Score - Testing | Accuracy - Training | Accuracy - Testing |\n",
    "| :---:                       | :---:               | :---:              | :---:               | :---:              |\n",
    "| Mean Word2vec               | 0.73                | 0.71               | 0.73                | 0.71               |\n",
    "| Tf-Idf Mean Word2vec        | 0.73                | 0.71               | 0.73                | 0.71               |\n",
    "| GloVe Mean Word2vec         | 0.65                | 0.63               | 0.66                | 0.64               |\n",
    "| PV-DM Doc2vec               | 0.59                | 0.57               | 0.59                | 0.57               |\n",
    "| Tf-Idf Word2vec + Doc2vec   | 0.76                | 0.72               | 0.76                | 0.73               |\n"
   ]
  },
  {
   "cell_type": "markdown",
   "metadata": {},
   "source": [
    "## Special Credits to the Following Posts and Authors\n",
    "\n",
    "In creating my **python class object** used for text preprocessing, I referred from these well-written posts.\n",
    "\n",
    "* The post [\"Text Classification with Word2vec\"](http://nadbordrozd.github.io/blog/2016/05/20/text-classification-with-word2vec/) by nadbor demos how to write your own class to compute average word embedding for doc, either simple averaging or TF-IDF weighted one.\n",
    "\n",
    "* [\"Multi-Class Text Classification Model Comparison and Selection\"](https://towardsdatascience.com/multi-class-text-classification-model-comparison-and-selection-5eb066197568) by Susan Li teaches me how to write beautiful averaging function for word embedding.\n",
    "\n",
    "* This tutorial [\"Gensim Doc2vec Tutorial on the IMDB Sentiment Dataset\"](https://github.com/RaRe-Technologies/gensim/blob/3c3506d51a2caf6b890de3b1b32a8b85f7566ca5/docs/notebooks/doc2vec-IMDB.ipynb) has step by step guidance on how to create doc2vec via Gensim.\n",
    "\n",
    "* [\"Distributed representations of sentences and documents\"](https://blog.acolyer.org/2016/06/01/distributed-representations-of-sentences-and-documents/) by Le & Mikolov presents a clear and easy-to-understand explanation on what's going under doc2vec."
   ]
  },
  {
   "cell_type": "markdown",
   "metadata": {},
   "source": [
    "# Data Preparation"
   ]
  },
  {
   "cell_type": "markdown",
   "metadata": {},
   "source": [
    "The dataset I am going to use here is tweet records from celebrities, such as Barack Obama, Ellen DeGeneres. It contains about 23 thousands records with 18 columns, including tweet author, time of tweeting, the content and side info(ex: has_hashtag, has_mentions). Particularly, I will select **author** and **tweet content** only for modeling in this case."
   ]
  },
  {
   "cell_type": "markdown",
   "metadata": {},
   "source": [
    "## Read in Dataset"
   ]
  },
  {
   "cell_type": "code",
   "execution_count": 6,
   "metadata": {},
   "outputs": [],
   "source": [
    "# Read in file.\n",
    "dir_path = '../dataset'\n",
    "\n",
    "df = pd.read_csv(os.path.join(dir_path, 'train_set.csv'), engine='python')\n",
    "df = df[pd.notnull(df['tweet'])][['author','tweet']]"
   ]
  },
  {
   "cell_type": "code",
   "execution_count": 7,
   "metadata": {
    "scrolled": false
   },
   "outputs": [
    {
     "data": {
      "text/html": [
       "<div>\n",
       "<style scoped>\n",
       "    .dataframe tbody tr th:only-of-type {\n",
       "        vertical-align: middle;\n",
       "    }\n",
       "\n",
       "    .dataframe tbody tr th {\n",
       "        vertical-align: top;\n",
       "    }\n",
       "\n",
       "    .dataframe thead th {\n",
       "        text-align: right;\n",
       "    }\n",
       "</style>\n",
       "<table border=\"1\" class=\"dataframe\">\n",
       "  <thead>\n",
       "    <tr style=\"text-align: right;\">\n",
       "      <th></th>\n",
       "      <th>author</th>\n",
       "      <th>tweet</th>\n",
       "    </tr>\n",
       "  </thead>\n",
       "  <tbody>\n",
       "    <tr>\n",
       "      <td>0</td>\n",
       "      <td>Neil deGrasse Tyson</td>\n",
       "      <td>A 50-yard field goal in MetLife stadium will deflect nearly 1/2 inch due to Earth’s rotation — meet the Coriolis force.</td>\n",
       "    </tr>\n",
       "    <tr>\n",
       "      <td>1</td>\n",
       "      <td>Cristiano Ronaldo</td>\n",
       "      <td>RT @Thiaguinhooo14: Manda um abraço em português para seus fás no Brasil ! @Cristiano   #Celebrate15M</td>\n",
       "    </tr>\n",
       "    <tr>\n",
       "      <td>2</td>\n",
       "      <td>Ellen DeGeneres</td>\n",
       "      <td>Today I’m talking about a topic that affects all of us. Man-spreading. https://t.co/fyBUEmHj5k</td>\n",
       "    </tr>\n",
       "    <tr>\n",
       "      <td>3</td>\n",
       "      <td>Sebastian Ruder</td>\n",
       "      <td>New blog post giving an overview of softmax approximations for learning better word embeddings https://t.co/I7lkb5ESu5 #deeplearning #NLProc</td>\n",
       "    </tr>\n",
       "    <tr>\n",
       "      <td>4</td>\n",
       "      <td>KATY PERRY</td>\n",
       "      <td>high of the day: 0 cavities 🙏🏻\\nlow: @washingtonpost won’t deliver physical newspapers to my zip code. Alas, I guess… https://t.co/tBDKO4naeW</td>\n",
       "    </tr>\n",
       "  </tbody>\n",
       "</table>\n",
       "</div>"
      ],
      "text/plain": [
       "                author  \\\n",
       "0  Neil deGrasse Tyson   \n",
       "1    Cristiano Ronaldo   \n",
       "2      Ellen DeGeneres   \n",
       "3      Sebastian Ruder   \n",
       "4           KATY PERRY   \n",
       "\n",
       "                                                                                                                                           tweet  \n",
       "0                        A 50-yard field goal in MetLife stadium will deflect nearly 1/2 inch due to Earth’s rotation — meet the Coriolis force.  \n",
       "1                                          RT @Thiaguinhooo14: Manda um abraço em português para seus fás no Brasil ! @Cristiano   #Celebrate15M  \n",
       "2                                                 Today I’m talking about a topic that affects all of us. Man-spreading. https://t.co/fyBUEmHj5k  \n",
       "3   New blog post giving an overview of softmax approximations for learning better word embeddings https://t.co/I7lkb5ESu5 #deeplearning #NLProc  \n",
       "4  high of the day: 0 cavities 🙏🏻\\nlow: @washingtonpost won’t deliver physical newspapers to my zip code. Alas, I guess… https://t.co/tBDKO4naeW  "
      ]
     },
     "execution_count": 7,
     "metadata": {},
     "output_type": "execute_result"
    }
   ],
   "source": [
    "df.head()"
   ]
  },
  {
   "cell_type": "markdown",
   "metadata": {},
   "source": [
    "## Preprocess Tweet Data"
   ]
  },
  {
   "cell_type": "markdown",
   "metadata": {},
   "source": [
    "### Drop off Tweet of Length < 3"
   ]
  },
  {
   "cell_type": "code",
   "execution_count": 8,
   "metadata": {},
   "outputs": [],
   "source": [
    "df = df[df['tweet'].apply(lambda x: len(x)) > 3]"
   ]
  },
  {
   "cell_type": "markdown",
   "metadata": {},
   "source": [
    "### Drop off Non-English Tweets"
   ]
  },
  {
   "cell_type": "code",
   "execution_count": 9,
   "metadata": {},
   "outputs": [],
   "source": [
    "import re\n",
    "import langid\n",
    "from textblob import TextBlob\n",
    "\n",
    "\n",
    "def lang_detector(text):\n",
    "    result = langid.classify(text)\n",
    "    return result[0]"
   ]
  },
  {
   "cell_type": "code",
   "execution_count": 10,
   "metadata": {},
   "outputs": [],
   "source": [
    "tweet = df['tweet'].apply(lambda x: np.nan if lang_detector(x) != 'en' else x)"
   ]
  },
  {
   "cell_type": "code",
   "execution_count": 11,
   "metadata": {},
   "outputs": [],
   "source": [
    "df['tweet'] = tweet"
   ]
  },
  {
   "cell_type": "code",
   "execution_count": 12,
   "metadata": {},
   "outputs": [],
   "source": [
    "df = df.dropna()"
   ]
  },
  {
   "cell_type": "markdown",
   "metadata": {},
   "source": [
    "### Tokenize Tweet Data - URL/Mention/Twitter Reserved Words/Emoji"
   ]
  },
  {
   "cell_type": "code",
   "execution_count": 13,
   "metadata": {},
   "outputs": [],
   "source": [
    "import preprocessor as p\n",
    "\n",
    "p.set_options(p.OPT.URL, p.OPT.MENTION, p.OPT.RESERVED, p.OPT.EMOJI)\n",
    "tweet = df['tweet'].apply(lambda x: p.tokenize(x))"
   ]
  },
  {
   "cell_type": "markdown",
   "metadata": {},
   "source": [
    "### Clean up #Hashtag"
   ]
  },
  {
   "cell_type": "code",
   "execution_count": 14,
   "metadata": {},
   "outputs": [],
   "source": [
    "def clean_hashtag(text):\n",
    "    result = re.sub(r'#([^\\s]+)', r'\\1', text)\n",
    "    return result"
   ]
  },
  {
   "cell_type": "code",
   "execution_count": 15,
   "metadata": {},
   "outputs": [],
   "source": [
    "df['tweet'] = tweet.apply(lambda x: clean_hashtag(x))"
   ]
  },
  {
   "cell_type": "markdown",
   "metadata": {},
   "source": [
    "### Remove All-Whitespace/Empty String"
   ]
  },
  {
   "cell_type": "code",
   "execution_count": 16,
   "metadata": {},
   "outputs": [
    {
     "data": {
      "text/plain": [
       "0"
      ]
     },
     "execution_count": 16,
     "metadata": {},
     "output_type": "execute_result"
    }
   ],
   "source": [
    "# check if there is any All-Whitespace or Empty String\n",
    "df['tweet'].apply(lambda x: re.match('^\\s*$', x)).sum() "
   ]
  },
  {
   "cell_type": "code",
   "execution_count": 17,
   "metadata": {},
   "outputs": [
    {
     "data": {
      "text/html": [
       "<div>\n",
       "<style scoped>\n",
       "    .dataframe tbody tr th:only-of-type {\n",
       "        vertical-align: middle;\n",
       "    }\n",
       "\n",
       "    .dataframe tbody tr th {\n",
       "        vertical-align: top;\n",
       "    }\n",
       "\n",
       "    .dataframe thead th {\n",
       "        text-align: right;\n",
       "    }\n",
       "</style>\n",
       "<table border=\"1\" class=\"dataframe\">\n",
       "  <thead>\n",
       "    <tr style=\"text-align: right;\">\n",
       "      <th></th>\n",
       "      <th>author</th>\n",
       "      <th>tweet</th>\n",
       "    </tr>\n",
       "  </thead>\n",
       "  <tbody>\n",
       "    <tr>\n",
       "      <td>0</td>\n",
       "      <td>Neil deGrasse Tyson</td>\n",
       "      <td>A 50-yard field goal in MetLife stadium will deflect nearly 1/2 inch due to Earth’s rotation — meet the Coriolis force.</td>\n",
       "    </tr>\n",
       "    <tr>\n",
       "      <td>2</td>\n",
       "      <td>Ellen DeGeneres</td>\n",
       "      <td>Today I’m talking about a topic that affects all of us. Man-spreading. $URL$</td>\n",
       "    </tr>\n",
       "    <tr>\n",
       "      <td>3</td>\n",
       "      <td>Sebastian Ruder</td>\n",
       "      <td>New blog post giving an overview of softmax approximations for learning better word embeddings $URL$ deeplearning NLProc</td>\n",
       "    </tr>\n",
       "    <tr>\n",
       "      <td>4</td>\n",
       "      <td>KATY PERRY</td>\n",
       "      <td>high of the day: 0 cavities $EMOJI$$EMOJI$ low: $MENTION$ won’t deliver physical newspapers to my zip code. Alas, I guess… $URL$</td>\n",
       "    </tr>\n",
       "    <tr>\n",
       "      <td>5</td>\n",
       "      <td>Neil deGrasse Tyson</td>\n",
       "      <td>$MENTION$ Yup. I occasionally repost after gaining more followers than the number I had the last time I posted the tweet</td>\n",
       "    </tr>\n",
       "  </tbody>\n",
       "</table>\n",
       "</div>"
      ],
      "text/plain": [
       "                author  \\\n",
       "0  Neil deGrasse Tyson   \n",
       "2      Ellen DeGeneres   \n",
       "3      Sebastian Ruder   \n",
       "4           KATY PERRY   \n",
       "5  Neil deGrasse Tyson   \n",
       "\n",
       "                                                                                                                              tweet  \n",
       "0           A 50-yard field goal in MetLife stadium will deflect nearly 1/2 inch due to Earth’s rotation — meet the Coriolis force.  \n",
       "2                                                      Today I’m talking about a topic that affects all of us. Man-spreading. $URL$  \n",
       "3          New blog post giving an overview of softmax approximations for learning better word embeddings $URL$ deeplearning NLProc  \n",
       "4  high of the day: 0 cavities $EMOJI$$EMOJI$ low: $MENTION$ won’t deliver physical newspapers to my zip code. Alas, I guess… $URL$  \n",
       "5          $MENTION$ Yup. I occasionally repost after gaining more followers than the number I had the last time I posted the tweet  "
      ]
     },
     "execution_count": 17,
     "metadata": {},
     "output_type": "execute_result"
    }
   ],
   "source": [
    "df.head()"
   ]
  },
  {
   "cell_type": "markdown",
   "metadata": {},
   "source": [
    "## Get Familiar with Dataset"
   ]
  },
  {
   "cell_type": "code",
   "execution_count": 18,
   "metadata": {},
   "outputs": [
    {
     "data": {
      "text/plain": [
       "(19418, 2)"
      ]
     },
     "execution_count": 18,
     "metadata": {},
     "output_type": "execute_result"
    }
   ],
   "source": [
    "# Get familiar with dataset.\n",
    "df.shape"
   ]
  },
  {
   "cell_type": "code",
   "execution_count": 19,
   "metadata": {},
   "outputs": [
    {
     "name": "stdout",
     "output_type": "stream",
     "text": [
      "<class 'pandas.core.frame.DataFrame'>\n",
      "Int64Index: 19418 entries, 0 to 23166\n",
      "Data columns (total 2 columns):\n",
      "author    19418 non-null object\n",
      "tweet     19418 non-null object\n",
      "dtypes: object(2)\n",
      "memory usage: 455.1+ KB\n"
     ]
    }
   ],
   "source": [
    "df.info()"
   ]
  },
  {
   "cell_type": "code",
   "execution_count": 20,
   "metadata": {},
   "outputs": [],
   "source": [
    "df.to_csv(os.path.join(dir_path, 'clean_train_set.csv'), index=False)"
   ]
  },
  {
   "cell_type": "markdown",
   "metadata": {},
   "source": [
    "## Label Distribution"
   ]
  },
  {
   "cell_type": "markdown",
   "metadata": {},
   "source": [
    "<mark>**Chart of Label Frequency**</mark>\n",
    "\n",
    "Now, let's see how frequency distributed among each label."
   ]
  },
  {
   "cell_type": "code",
   "execution_count": 21,
   "metadata": {},
   "outputs": [
    {
     "data": {
      "text/plain": [
       "Barack Obama           2570\n",
       "Neil deGrasse Tyson    2523\n",
       "Ellen DeGeneres        2388\n",
       "Sebastian Ruder        2265\n",
       "Elon Musk              2100\n",
       "Kim Kardashian West    1967\n",
       "KATY PERRY             1954\n",
       "Cristiano Ronaldo      1821\n",
       "Snoop Dogg             1671\n",
       "Donald J. Trump         159\n",
       "Name: author, dtype: int64"
      ]
     },
     "metadata": {},
     "output_type": "display_data"
    }
   ],
   "source": [
    "# Distribution of target variable.\n",
    "display(df['author'].value_counts())"
   ]
  },
  {
   "cell_type": "code",
   "execution_count": 23,
   "metadata": {},
   "outputs": [
    {
     "name": "stdout",
     "output_type": "stream",
     "text": [
      "Frequency(Top 10)...\n"
     ]
    },
    {
     "data": {
      "text/html": [
       "<div>\n",
       "<style scoped>\n",
       "    .dataframe tbody tr th:only-of-type {\n",
       "        vertical-align: middle;\n",
       "    }\n",
       "\n",
       "    .dataframe tbody tr th {\n",
       "        vertical-align: top;\n",
       "    }\n",
       "\n",
       "    .dataframe thead th {\n",
       "        text-align: right;\n",
       "    }\n",
       "</style>\n",
       "<table border=\"1\" class=\"dataframe\">\n",
       "  <thead>\n",
       "    <tr style=\"text-align: right;\">\n",
       "      <th></th>\n",
       "      <th>freq</th>\n",
       "      <th>count</th>\n",
       "    </tr>\n",
       "  </thead>\n",
       "  <tbody>\n",
       "    <tr>\n",
       "      <td>Barack Obama</td>\n",
       "      <td>0.132351</td>\n",
       "      <td>2570</td>\n",
       "    </tr>\n",
       "    <tr>\n",
       "      <td>Neil deGrasse Tyson</td>\n",
       "      <td>0.129931</td>\n",
       "      <td>2523</td>\n",
       "    </tr>\n",
       "    <tr>\n",
       "      <td>Ellen DeGeneres</td>\n",
       "      <td>0.122979</td>\n",
       "      <td>2388</td>\n",
       "    </tr>\n",
       "    <tr>\n",
       "      <td>Sebastian Ruder</td>\n",
       "      <td>0.116644</td>\n",
       "      <td>2265</td>\n",
       "    </tr>\n",
       "    <tr>\n",
       "      <td>Elon Musk</td>\n",
       "      <td>0.108147</td>\n",
       "      <td>2100</td>\n",
       "    </tr>\n",
       "    <tr>\n",
       "      <td>Kim Kardashian West</td>\n",
       "      <td>0.101298</td>\n",
       "      <td>1967</td>\n",
       "    </tr>\n",
       "    <tr>\n",
       "      <td>KATY PERRY</td>\n",
       "      <td>0.100628</td>\n",
       "      <td>1954</td>\n",
       "    </tr>\n",
       "    <tr>\n",
       "      <td>Cristiano Ronaldo</td>\n",
       "      <td>0.093779</td>\n",
       "      <td>1821</td>\n",
       "    </tr>\n",
       "    <tr>\n",
       "      <td>Snoop Dogg</td>\n",
       "      <td>0.086054</td>\n",
       "      <td>1671</td>\n",
       "    </tr>\n",
       "    <tr>\n",
       "      <td>Donald J. Trump</td>\n",
       "      <td>0.008188</td>\n",
       "      <td>159</td>\n",
       "    </tr>\n",
       "  </tbody>\n",
       "</table>\n",
       "</div>"
      ],
      "text/plain": [
       "                         freq  count\n",
       "Barack Obama         0.132351   2570\n",
       "Neil deGrasse Tyson  0.129931   2523\n",
       "Ellen DeGeneres      0.122979   2388\n",
       "Sebastian Ruder      0.116644   2265\n",
       "Elon Musk            0.108147   2100\n",
       "Kim Kardashian West  0.101298   1967\n",
       "KATY PERRY           0.100628   1954\n",
       "Cristiano Ronaldo    0.093779   1821\n",
       "Snoop Dogg           0.086054   1671\n",
       "Donald J. Trump      0.008188    159"
      ]
     },
     "metadata": {},
     "output_type": "display_data"
    },
    {
     "data": {
      "image/png": "[encoded data removed]",
      "text/plain": [
       "<Figure size 1080x576 with 1 Axes>"
      ]
     },
     "metadata": {},
     "output_type": "display_data"
    }
   ],
   "source": [
    "from UtilTextClassification import plot_freq\n",
    "\n",
    "plot_freq(df, col=['author'], top_classes=10)"
   ]
  },
  {
   "cell_type": "markdown",
   "metadata": {},
   "source": [
    "<mark>**Sample of Dataset**</mark>\n",
    "\n",
    "Demo of (product, complaints) example to get a feeling of what complaints will be like to corresponding product."
   ]
  },
  {
   "cell_type": "code",
   "execution_count": 24,
   "metadata": {},
   "outputs": [
    {
     "name": "stdout",
     "output_type": "stream",
     "text": [
      "Demo of product and its tweet example...\n"
     ]
    },
    {
     "data": {
      "text/html": [
       "<div>\n",
       "<style scoped>\n",
       "    .dataframe tbody tr th:only-of-type {\n",
       "        vertical-align: middle;\n",
       "    }\n",
       "\n",
       "    .dataframe tbody tr th {\n",
       "        vertical-align: top;\n",
       "    }\n",
       "\n",
       "    .dataframe thead th {\n",
       "        text-align: right;\n",
       "    }\n",
       "</style>\n",
       "<table border=\"1\" class=\"dataframe\">\n",
       "  <thead>\n",
       "    <tr style=\"text-align: right;\">\n",
       "      <th></th>\n",
       "      <th>author</th>\n",
       "      <th>tweet</th>\n",
       "    </tr>\n",
       "  </thead>\n",
       "  <tbody>\n",
       "    <tr>\n",
       "      <td>0</td>\n",
       "      <td>Neil deGrasse Tyson</td>\n",
       "      <td>A 50-yard field goal in MetLife stadium will deflect nearly 1/2 inch due to Earth’s rotation — meet the Coriolis force.</td>\n",
       "    </tr>\n",
       "    <tr>\n",
       "      <td>2</td>\n",
       "      <td>Ellen DeGeneres</td>\n",
       "      <td>Today I’m talking about a topic that affects all of us. Man-spreading. $URL$</td>\n",
       "    </tr>\n",
       "    <tr>\n",
       "      <td>3</td>\n",
       "      <td>Sebastian Ruder</td>\n",
       "      <td>New blog post giving an overview of softmax approximations for learning better word embeddings $URL$ deeplearning NLProc</td>\n",
       "    </tr>\n",
       "    <tr>\n",
       "      <td>4</td>\n",
       "      <td>KATY PERRY</td>\n",
       "      <td>high of the day: 0 cavities $EMOJI$$EMOJI$ low: $MENTION$ won’t deliver physical newspapers to my zip code. Alas, I guess… $URL$</td>\n",
       "    </tr>\n",
       "    <tr>\n",
       "      <td>5</td>\n",
       "      <td>Neil deGrasse Tyson</td>\n",
       "      <td>$MENTION$ Yup. I occasionally repost after gaining more followers than the number I had the last time I posted the tweet</td>\n",
       "    </tr>\n",
       "    <tr>\n",
       "      <td>6</td>\n",
       "      <td>Sebastian Ruder</td>\n",
       "      <td>$RESERVED$ $MENTION$: These rules are full of wisdom. Every university should offer classes in DevOps for MachineLearning using them as the tex…</td>\n",
       "    </tr>\n",
       "  </tbody>\n",
       "</table>\n",
       "</div>"
      ],
      "text/plain": [
       "                author  \\\n",
       "0  Neil deGrasse Tyson   \n",
       "2      Ellen DeGeneres   \n",
       "3      Sebastian Ruder   \n",
       "4           KATY PERRY   \n",
       "5  Neil deGrasse Tyson   \n",
       "6      Sebastian Ruder   \n",
       "\n",
       "                                                                                                                                              tweet  \n",
       "0                           A 50-yard field goal in MetLife stadium will deflect nearly 1/2 inch due to Earth’s rotation — meet the Coriolis force.  \n",
       "2                                                                      Today I’m talking about a topic that affects all of us. Man-spreading. $URL$  \n",
       "3                          New blog post giving an overview of softmax approximations for learning better word embeddings $URL$ deeplearning NLProc  \n",
       "4                  high of the day: 0 cavities $EMOJI$$EMOJI$ low: $MENTION$ won’t deliver physical newspapers to my zip code. Alas, I guess… $URL$  \n",
       "5                          $MENTION$ Yup. I occasionally repost after gaining more followers than the number I had the last time I posted the tweet  \n",
       "6  $RESERVED$ $MENTION$: These rules are full of wisdom. Every university should offer classes in DevOps for MachineLearning using them as the tex…  "
      ]
     },
     "execution_count": 24,
     "metadata": {},
     "output_type": "execute_result"
    }
   ],
   "source": [
    "print('Demo of product and its tweet example...')\n",
    "df.head(n=6)"
   ]
  },
  {
   "cell_type": "markdown",
   "metadata": {},
   "source": [
    "# Document Preprocessing"
   ]
  },
  {
   "cell_type": "code",
   "execution_count": 26,
   "metadata": {},
   "outputs": [],
   "source": [
    "import spacy\n",
    "\n",
    "nlp = spacy.load('en_core_web_lg')\n",
    "stop_words = spacy.lang.en.stop_words.STOP_WORDS"
   ]
  },
  {
   "cell_type": "code",
   "execution_count": 27,
   "metadata": {},
   "outputs": [],
   "source": [
    "from UtilWordEmbedding import DocPreprocess\n",
    "\n",
    "\n",
    "\n",
    "all_docs = DocPreprocess(nlp, stop_words, df['tweet'], df['author'])"
   ]
  },
  {
   "cell_type": "code",
   "execution_count": 29,
   "metadata": {},
   "outputs": [],
   "source": [
    "import pickle\n",
    "\n",
    "\n",
    "# Save all_docs as pickle.\n",
    "with open(os.path.join(dir_path, 'all_docs.pickle'), 'wb') as f:\n",
    "    pickle.dump(all_docs, f, pickle.HIGHEST_PROTOCOL)"
   ]
  },
  {
   "cell_type": "code",
   "execution_count": null,
   "metadata": {},
   "outputs": [],
   "source": [
    "import pickle\n",
    "\n",
    "\n",
    "# Read pickle.\n",
    "with open(os.path.join(dir_path, 'all_docs.pickle'), 'rb') as f:\n",
    "    all_docs = pickle.load(f)"
   ]
  },
  {
   "cell_type": "markdown",
   "metadata": {},
   "source": [
    "## Deomo - Structure of Preprocessed Docs"
   ]
  },
  {
   "cell_type": "code",
   "execution_count": 30,
   "metadata": {},
   "outputs": [
    {
     "data": {
      "text/plain": [
       "UtilWordEmbedding.DocPreprocess"
      ]
     },
     "execution_count": 30,
     "metadata": {},
     "output_type": "execute_result"
    }
   ],
   "source": [
    "# Demo: structure of preprocessed docs.\n",
    "type(all_docs)"
   ]
  },
  {
   "cell_type": "code",
   "execution_count": 31,
   "metadata": {},
   "outputs": [
    {
     "data": {
      "text/plain": [
       "19418"
      ]
     },
     "execution_count": 31,
     "metadata": {},
     "output_type": "execute_result"
    }
   ],
   "source": [
    "len(all_docs.tagdocs)"
   ]
  },
  {
   "cell_type": "code",
   "execution_count": 32,
   "metadata": {
    "scrolled": true
   },
   "outputs": [
    {
     "name": "stdout",
     "output_type": "stream",
     "text": [
      "Demo of tagged document...\n"
     ]
    },
    {
     "data": {
      "text/plain": [
       "TaggedDocument(words=['mention', 'occasionally', 'repost', 'gain', 'follower', 'number', 'time', 'post', 'tweet'], tags=[4])"
      ]
     },
     "execution_count": 32,
     "metadata": {},
     "output_type": "execute_result"
    }
   ],
   "source": [
    "print('Demo of tagged document...')\n",
    "all_docs.tagdocs[4]"
   ]
  },
  {
   "cell_type": "code",
   "execution_count": 33,
   "metadata": {},
   "outputs": [
    {
     "name": "stdout",
     "output_type": "stream",
     "text": [
      "Demo of doc words...\n"
     ]
    },
    {
     "data": {
      "text/plain": [
       "['mention',\n",
       " 'occasionally',\n",
       " 'repost',\n",
       " 'gain',\n",
       " 'follower',\n",
       " 'number',\n",
       " 'time',\n",
       " 'post',\n",
       " 'tweet']"
      ]
     },
     "execution_count": 33,
     "metadata": {},
     "output_type": "execute_result"
    }
   ],
   "source": [
    "print('Demo of doc words...')\n",
    "all_docs.doc_words[4][:10]"
   ]
  },
  {
   "cell_type": "code",
   "execution_count": 34,
   "metadata": {},
   "outputs": [
    {
     "name": "stdout",
     "output_type": "stream",
     "text": [
      "Label of tagged document...\n"
     ]
    },
    {
     "data": {
      "text/plain": [
       "'Neil deGrasse Tyson'"
      ]
     },
     "execution_count": 34,
     "metadata": {},
     "output_type": "execute_result"
    }
   ],
   "source": [
    "print('Label of tagged document...')\n",
    "all_docs.labels.iloc[4]"
   ]
  },
  {
   "cell_type": "markdown",
   "metadata": {},
   "source": [
    "# Build up Word Model - Word2vec"
   ]
  },
  {
   "cell_type": "markdown",
   "metadata": {},
   "source": [
    "Since the text are properly processed, we're ready to train our word2vec via Gensim. Here I chose the dimension size 100 for each word embedding and window size of 5. The training iterates for 100 times."
   ]
  },
  {
   "cell_type": "code",
   "execution_count": 35,
   "metadata": {
    "scrolled": true
   },
   "outputs": [
    {
     "name": "stdout",
     "output_type": "stream",
     "text": [
      "number of cpu: 4\n"
     ]
    }
   ],
   "source": [
    "import multiprocessing\n",
    "import sys\n",
    "from gensim.models.word2vec import Word2Vec\n",
    "\n",
    "workers = multiprocessing.cpu_count()\n",
    "print('number of cpu: {}'.format(workers))\n",
    "assert gensim.models.doc2vec.FAST_VERSION > -1, \"This will be painfully slow otherwise.\""
   ]
  },
  {
   "cell_type": "code",
   "execution_count": 36,
   "metadata": {},
   "outputs": [],
   "source": [
    "word_model = Word2Vec(all_docs.doc_words,\n",
    "                      min_count=2,\n",
    "                      size=100,\n",
    "                      window=5,\n",
    "                      workers=workers,\n",
    "                      iter=100)"
   ]
  },
  {
   "cell_type": "markdown",
   "metadata": {},
   "source": [
    "# Averaging Word Embedding for Each Doc"
   ]
  },
  {
   "cell_type": "markdown",
   "metadata": {},
   "source": [
    "OK! Now we have the word embedding at hand, we'll be using the word embedding to compute for representative vector for whole text. It then serves as feature input for text classification model. There are various ways to come up with doc vector. First, let's start with the simple one."
   ]
  },
  {
   "cell_type": "markdown",
   "metadata": {},
   "source": [
    "## Simple Averaging on Word Embedding"
   ]
  },
  {
   "cell_type": "code",
   "execution_count": 37,
   "metadata": {
    "scrolled": false
   },
   "outputs": [
    {
     "name": "stderr",
     "output_type": "stream",
     "text": [
      "WARNING:root:cannot compute average owing to no vector for ['edgy']\n",
      "WARNING:root:cannot compute average owing to no vector for []\n",
      "WARNING:root:cannot compute average owing to no vector for []\n",
      "WARNING:root:cannot compute average owing to no vector for []\n",
      "WARNING:root:cannot compute average owing to no vector for []\n",
      "WARNING:root:cannot compute average owing to no vector for ['anarcho', 'syndicalism']\n",
      "WARNING:root:cannot compute average owing to no vector for ['muthafuckin', 'merryjane']\n",
      "WARNING:root:cannot compute average owing to no vector for []\n",
      "WARNING:root:cannot compute average owing to no vector for ['iconcher']\n",
      "WARNING:root:cannot compute average owing to no vector for []\n",
      "WARNING:root:cannot compute average owing to no vector for ['rudolphhaddish']\n",
      "WARNING:root:cannot compute average owing to no vector for []\n",
      "WARNING:root:cannot compute average owing to no vector for []\n",
      "WARNING:root:cannot compute average owing to no vector for []\n"
     ]
    }
   ],
   "source": [
    "from UtilWordEmbedding import MeanEmbeddingVectorizer\n",
    "\n",
    "\n",
    "mean_vec_tr = MeanEmbeddingVectorizer(word_model)\n",
    "doc_vec = mean_vec_tr.transform(all_docs.doc_words)\n",
    "\n",
    "# print('Demo of word averaging doc vector...')\n",
    "# display(doc_vec[4])"
   ]
  },
  {
   "cell_type": "code",
   "execution_count": 38,
   "metadata": {},
   "outputs": [
    {
     "name": "stdout",
     "output_type": "stream",
     "text": [
      "Shape of word-mean doc2vec...\n"
     ]
    },
    {
     "data": {
      "text/plain": [
       "(19418, 100)"
      ]
     },
     "metadata": {},
     "output_type": "display_data"
    },
    {
     "name": "stdout",
     "output_type": "stream",
     "text": [
      "Save word-mean doc2vec as csv file...\n"
     ]
    }
   ],
   "source": [
    "# Save word averaging doc2vec.\n",
    "print('Shape of word-mean doc2vec...')\n",
    "display(doc_vec.shape)\n",
    "print('Save word-mean doc2vec as csv file...')\n",
    "np.savetxt(os.path.join(dir_path,'doc_vec.csv'), doc_vec, delimiter=',')"
   ]
  },
  {
   "cell_type": "markdown",
   "metadata": {},
   "source": [
    "## TF-IDF Weighted Averaging on Word Embedding"
   ]
  },
  {
   "cell_type": "code",
   "execution_count": 39,
   "metadata": {},
   "outputs": [],
   "source": [
    "from UtilWordEmbedding import TfidfEmbeddingVectorizer\n",
    "\n",
    "\n",
    "\n",
    "tfidf_vec_tr = TfidfEmbeddingVectorizer(word_model)"
   ]
  },
  {
   "cell_type": "code",
   "execution_count": 40,
   "metadata": {},
   "outputs": [
    {
     "name": "stderr",
     "output_type": "stream",
     "text": [
      "WARNING:root:cannot compute average owing to no vector for ['edgy']\n",
      "WARNING:root:cannot compute average owing to no vector for []\n",
      "WARNING:root:cannot compute average owing to no vector for []\n",
      "WARNING:root:cannot compute average owing to no vector for []\n",
      "WARNING:root:cannot compute average owing to no vector for []\n",
      "WARNING:root:cannot compute average owing to no vector for ['anarcho', 'syndicalism']\n",
      "WARNING:root:cannot compute average owing to no vector for ['muthafuckin', 'merryjane']\n",
      "WARNING:root:cannot compute average owing to no vector for []\n",
      "WARNING:root:cannot compute average owing to no vector for ['iconcher']\n",
      "WARNING:root:cannot compute average owing to no vector for []\n",
      "WARNING:root:cannot compute average owing to no vector for ['rudolphhaddish']\n",
      "WARNING:root:cannot compute average owing to no vector for []\n",
      "WARNING:root:cannot compute average owing to no vector for []\n",
      "WARNING:root:cannot compute average owing to no vector for []\n"
     ]
    }
   ],
   "source": [
    "tfidf_vec_tr.fit(all_docs.doc_words)  # fit tfidf model first\n",
    "tfidf_doc_vec = tfidf_vec_tr.transform(all_docs.doc_words)\n",
    "\n",
    "\n",
    "# print('Demo of tf-idf word averaging doc vector...')\n",
    "# display(tfidf_doc_vec[4])"
   ]
  },
  {
   "cell_type": "code",
   "execution_count": 41,
   "metadata": {},
   "outputs": [
    {
     "name": "stdout",
     "output_type": "stream",
     "text": [
      "Shape of tfidf-word-mean doc2vec...\n"
     ]
    },
    {
     "data": {
      "text/plain": [
       "(19418, 100)"
      ]
     },
     "metadata": {},
     "output_type": "display_data"
    },
    {
     "name": "stdout",
     "output_type": "stream",
     "text": [
      "Save tfidf-word-mean doc2vec as csv file...\n"
     ]
    }
   ],
   "source": [
    "# Save tfidf word averaging doc2vec.\n",
    "print('Shape of tfidf-word-mean doc2vec...')\n",
    "display(tfidf_doc_vec.shape)\n",
    "print('Save tfidf-word-mean doc2vec as csv file...')\n",
    "np.savetxt(os.path.join(dir_path, 'tfidf_doc_vec.csv'), tfidf_doc_vec, delimiter=',')"
   ]
  },
  {
   "cell_type": "markdown",
   "metadata": {},
   "source": [
    "## Leverage Pre-train GloVe Word Embedding"
   ]
  },
  {
   "cell_type": "markdown",
   "metadata": {},
   "source": [
    "### Load in GloVe Vector"
   ]
  },
  {
   "cell_type": "markdown",
   "metadata": {},
   "source": [
    "Let's include another option - leveraging the existing pre-trained word embedding and see how it performs in text classification. Here I follow up the instructions from [Stanford NLP course(CS224N) notebook](http://web.stanford.edu/class/cs224n/materials/Gensim%20word%20vector%20visualization.html), importing GloVe word embedding into Gensim to compute for averaging word embedding on text.\n",
    "\n",
    "As a side note, I've also tried to apply Tf-IDF weighted method on GloVe vector, but found out that the result is basically the same as the ones from TF-IDF weighted averaging doc vector. Thus, I omit the demonstration and just include simple averaging on GloVe word vector here."
   ]
  },
  {
   "cell_type": "markdown",
   "metadata": {},
   "source": [
    "<mark>**APPENDIX: The explanation for logic behind loading pre-train word vector.**</mark>\n",
    "\n",
    "The result of `datapath()` shows that Gensim will try to load in dataset from */Users/XXX/miniconda3/lib/python3.7/site-packages/gensim/test/test_data/*, and calls it `glove_vec_fi`.\n",
    "\n",
    "It then uses `get_tmpfile()` to create a temporary file path to store the word2vec `tmp_word2vec_fi`, which is converted from `glove_vec_fi`.\n",
    "\n",
    "At the final step, **KeyedVectors** then loads in the `tmp_word2vec_fi` as word model."
   ]
  },
  {
   "cell_type": "code",
   "execution_count": 42,
   "metadata": {},
   "outputs": [],
   "source": [
    "from gensim.test.utils import get_tmpfile, datapath\n",
    "from gensim.models import KeyedVectors\n",
    "from gensim.scripts.glove2word2vec import glove2word2vec\n",
    "\n",
    "\n",
    "\n",
    "# Load in GloVe vector.\n",
    "glove_vec_fi = datapath('glove.twitter.27B/glove.twitter.27B.100d.txt')\n",
    "tmp_word2vec_fi = get_tmpfile('tmp_glove2word2vec.txt')\n",
    "\n",
    "glove2word2vec(glove_vec_fi, tmp_word2vec_fi)\n",
    "\n",
    "glove_word_model = KeyedVectors.load_word2vec_format(tmp_word2vec_fi)"
   ]
  },
  {
   "cell_type": "markdown",
   "metadata": {},
   "source": [
    "### Simple Averaging on GloVe Word Embedding"
   ]
  },
  {
   "cell_type": "code",
   "execution_count": 43,
   "metadata": {},
   "outputs": [],
   "source": [
    "# Apply word averaging on GloVe word vector.\n",
    "glove_mean_vec_tr = MeanEmbeddingVectorizer(glove_word_model)"
   ]
  },
  {
   "cell_type": "code",
   "execution_count": 44,
   "metadata": {},
   "outputs": [
    {
     "name": "stderr",
     "output_type": "stream",
     "text": [
      "WARNING:root:cannot compute average owing to no vector for ['nevaleft']\n",
      "WARNING:root:cannot compute average owing to no vector for ['ethereum']\n",
      "WARNING:root:cannot compute average owing to no vector for ['gameofgame', 'knoworgo']\n",
      "WARNING:root:cannot compute average owing to no vector for []\n",
      "WARNING:root:cannot compute average owing to no vector for []\n",
      "WARNING:root:cannot compute average owing to no vector for []\n",
      "WARNING:root:cannot compute average owing to no vector for []\n",
      "WARNING:root:cannot compute average owing to no vector for ['anarcho', 'syndicalism']\n",
      "WARNING:root:cannot compute average owing to no vector for []\n",
      "WARNING:root:cannot compute average owing to no vector for ['iconcher']\n",
      "WARNING:root:cannot compute average owing to no vector for []\n",
      "WARNING:root:cannot compute average owing to no vector for ['rudolphhaddish']\n",
      "WARNING:root:cannot compute average owing to no vector for []\n",
      "WARNING:root:cannot compute average owing to no vector for []\n",
      "WARNING:root:cannot compute average owing to no vector for []\n",
      "WARNING:root:cannot compute average owing to no vector for ['karlbecker']\n",
      "WARNING:root:cannot compute average owing to no vector for ['dropthemichrc']\n"
     ]
    }
   ],
   "source": [
    "glove_doc_vec = glove_mean_vec_tr.transform(all_docs.doc_words)\n",
    "\n",
    "\n",
    "# print('Demo of GloVe word averaging doc vector...')\n",
    "# display(glove_doc_vec[4])"
   ]
  },
  {
   "cell_type": "code",
   "execution_count": 45,
   "metadata": {},
   "outputs": [
    {
     "name": "stdout",
     "output_type": "stream",
     "text": [
      "Examine if glove_doc_vec is equal to self-trained doc_vec...\n"
     ]
    },
    {
     "data": {
      "text/plain": [
       "array([False, False, False, False, False, False, False, False, False,\n",
       "       False, False, False, False, False, False, False, False, False,\n",
       "       False, False, False, False, False, False, False, False, False,\n",
       "       False, False, False, False, False, False, False, False, False,\n",
       "       False, False, False, False, False, False, False, False, False,\n",
       "       False, False, False, False, False, False, False, False, False,\n",
       "       False, False, False, False, False, False, False, False, False,\n",
       "       False, False, False, False, False, False, False, False, False,\n",
       "       False, False, False, False, False, False, False, False, False,\n",
       "       False, False, False, False, False, False, False, False, False,\n",
       "       False, False, False, False, False, False, False, False, False,\n",
       "       False])"
      ]
     },
     "execution_count": 45,
     "metadata": {},
     "output_type": "execute_result"
    }
   ],
   "source": [
    "# Examine if glove_doc_vec is equal to self-trained doc_vec.\n",
    "print('Examine if glove_doc_vec is equal to self-trained doc_vec...')\n",
    "glove_doc_vec[4] == doc_vec[4]"
   ]
  },
  {
   "cell_type": "code",
   "execution_count": 46,
   "metadata": {},
   "outputs": [
    {
     "name": "stdout",
     "output_type": "stream",
     "text": [
      "Shape of glove-word-mean doc2vec...\n"
     ]
    },
    {
     "data": {
      "text/plain": [
       "(19418, 100)"
      ]
     },
     "metadata": {},
     "output_type": "display_data"
    },
    {
     "name": "stdout",
     "output_type": "stream",
     "text": [
      "Save glove-word-mean doc2vec as csv file...\n"
     ]
    }
   ],
   "source": [
    "# Save glove word averaging doc2vec.\n",
    "print('Shape of glove-word-mean doc2vec...')\n",
    "display(glove_doc_vec.shape)\n",
    "print('Save glove-word-mean doc2vec as csv file...')\n",
    "np.savetxt(os.path.join(dir_path, 'glove_doc_vec.csv'), glove_doc_vec, delimiter=',')"
   ]
  },
  {
   "cell_type": "markdown",
   "metadata": {},
   "source": [
    "## Apply Doc2vec Training Directly"
   ]
  },
  {
   "cell_type": "markdown",
   "metadata": {},
   "source": [
    "### PV-DM Model"
   ]
  },
  {
   "cell_type": "markdown",
   "metadata": {},
   "source": [
    "Last but not least, we still have one more option - to directly train doc2vec, and no need to average all word embeddings. Here I chose **PV-DM model** to train my doc2vec.\n",
    "\n",
    "The script is mostly referred from [Gensim tutorial](https://github.com/RaRe-Technologies/gensim/blob/3c3506d51a2caf6b890de3b1b32a8b85f7566ca5/docs/notebooks/doc2vec-IMDB.ipynb). And again, to save all the labor, I create a class **DocModel** for it. The class just needs to take in the **TaggedDocument** and then we call `self.custom_train()` method, the doc model will train itself."
   ]
  },
  {
   "cell_type": "markdown",
   "metadata": {},
   "source": [
    "<mark>**APPENDIX: Training with Fixed Learning Rate.**</mark>\n",
    "\n",
    "It's said to achieve better result, but the statement is from a rather old-version gensim tutorial. I found no better training result out of using fixed learning rate. Instead, using the default one, which is also recommended by the new gensim document achieving better performance.\n",
    "\n",
    "Excerpted from [Doc2vec tutorial](https://rare-technologies.com/doc2vec-tutorial/)\n",
    "\n",
    "I have obtained better results by iterating over the data several times and either\n",
    "\n",
    "1. randomizing the order of input sentences, or\n",
    "2. manually controlling the learning rate over the course of several iterations."
   ]
  },
  {
   "cell_type": "code",
   "execution_count": 47,
   "metadata": {},
   "outputs": [],
   "source": [
    "from UtilWordEmbedding import DocModel\n",
    "\n",
    "# Configure keyed arguments for Doc2Vec model.\n",
    "dm_args = {\n",
    "    'dm': 1,\n",
    "    'dm_mean': 1,\n",
    "    'vector_size': 100,\n",
    "    'window': 5,\n",
    "    'negative': 5,\n",
    "    'hs': 0,\n",
    "    'min_count': 2,\n",
    "    'sample': 0,\n",
    "    'workers': workers,\n",
    "    'alpha': 0.025,\n",
    "    'min_alpha': 0.025,\n",
    "    'epochs': 100,\n",
    "    'comment': 'alpha=0.025'\n",
    "}"
   ]
  },
  {
   "cell_type": "code",
   "execution_count": 48,
   "metadata": {},
   "outputs": [],
   "source": [
    "# Instantiate a pv-dm model.\n",
    "dm = DocModel(docs=all_docs.tagdocs, **dm_args)"
   ]
  },
  {
   "cell_type": "code",
   "execution_count": 49,
   "metadata": {},
   "outputs": [],
   "source": [
    "dm.custom_train()"
   ]
  },
  {
   "cell_type": "code",
   "execution_count": 50,
   "metadata": {},
   "outputs": [
    {
     "data": {
      "text/plain": [
       "array([ 4.46859002e-01, -6.06587827e-01,  1.98435992e-01, -3.37318569e-01,\n",
       "       -1.95162207e-01, -8.27074945e-01,  7.10499108e-01, -7.10757375e-02,\n",
       "       -1.09083009e+00, -3.97132665e-01, -5.29366314e-01, -4.17310208e-01,\n",
       "        8.36814642e-01,  1.22204103e-01,  1.03322684e-03,  1.28317578e-02,\n",
       "       -4.49760258e-01, -1.31806242e+00,  4.22282815e-01, -1.59376770e-01,\n",
       "       -3.94937128e-01,  5.95410243e-02, -6.05060041e-01, -2.13741064e-01,\n",
       "       -1.36183396e-01,  6.89054504e-02, -9.49063838e-01,  6.85928822e-01,\n",
       "       -5.29551446e-01, -5.88694274e-01, -2.84215510e-01, -1.19362891e-01,\n",
       "        3.65475863e-01,  3.62233669e-01, -9.54649970e-02,  4.55131054e-01,\n",
       "       -1.36482120e-01, -1.37422729e+00, -5.72958112e-01, -1.73550919e-01,\n",
       "       -1.32329455e-02, -5.16933143e-01, -1.59686580e-01, -5.57774186e-01,\n",
       "        4.32514489e-01, -2.42879197e-01, -2.12670803e-01,  8.34844038e-02,\n",
       "        7.92813241e-01,  9.17035520e-01,  5.44398427e-01, -1.81371987e-01,\n",
       "       -5.48725009e-01, -3.06090176e-01, -4.37090963e-01, -5.80040991e-01,\n",
       "        4.59385544e-01, -7.48840272e-01, -8.44780449e-03,  3.09233487e-01,\n",
       "       -2.34138519e-02, -2.57490486e-01,  8.58393371e-01,  3.05676967e-01,\n",
       "       -1.40649647e-01, -5.09959698e-01,  4.53687310e-02, -1.36927462e+00,\n",
       "       -8.14050198e-01, -4.82827753e-01,  9.51222032e-02,  2.30645835e-01,\n",
       "        2.19687551e-01,  3.27160269e-01, -3.95348161e-01, -8.28735679e-02,\n",
       "       -2.81225909e-02, -1.11787963e+00,  2.72521377e-01,  8.54436994e-01,\n",
       "        1.17343344e-01, -1.04298711e+00, -9.76661861e-01, -2.18096316e-01,\n",
       "       -9.39227417e-02, -2.28986844e-01,  2.31262594e-01, -1.69822857e-01,\n",
       "        6.98591232e-01, -2.94631213e-01,  7.09929109e-01,  9.94800553e-02,\n",
       "       -3.62129927e-01, -1.44866693e+00,  9.94134605e-01,  9.60586816e-02,\n",
       "       -1.62381992e-01, -8.84853482e-01,  8.94214630e-01,  3.58881682e-01],\n",
       "      dtype=float32)"
      ]
     },
     "execution_count": 50,
     "metadata": {},
     "output_type": "execute_result"
    }
   ],
   "source": [
    "# Demo: doc vector.\n",
    "dm.model.docvecs[0]"
   ]
  },
  {
   "cell_type": "code",
   "execution_count": 51,
   "metadata": {},
   "outputs": [
    {
     "name": "stdout",
     "output_type": "stream",
     "text": [
      "Shape of dm doc2vec...\n"
     ]
    },
    {
     "data": {
      "text/plain": [
       "(19418, 100)"
      ]
     },
     "metadata": {},
     "output_type": "display_data"
    },
    {
     "name": "stdout",
     "output_type": "stream",
     "text": [
      "Save dm doc2vec as csv file...\n"
     ]
    }
   ],
   "source": [
    "# Save doc2vec as feature dataframe.\n",
    "dm_doc_vec_ls = []\n",
    "for i in range(len(dm.model.docvecs)):\n",
    "    dm_doc_vec_ls.append(dm.model.docvecs[i])\n",
    "\n",
    "\n",
    "dm_doc_vec = pd.DataFrame(dm_doc_vec_ls)\n",
    "print('Shape of dm doc2vec...')\n",
    "display(dm_doc_vec.shape)\n",
    "\n",
    "print('Save dm doc2vec as csv file...')\n",
    "dm_doc_vec.to_csv(os.path.join(dir_path, 'dm_doc_vec.csv'), index=False, header=False)"
   ]
  },
  {
   "cell_type": "markdown",
   "metadata": {},
   "source": [
    "## Save Target Label"
   ]
  },
  {
   "cell_type": "code",
   "execution_count": 52,
   "metadata": {},
   "outputs": [
    {
     "name": "stdout",
     "output_type": "stream",
     "text": [
      "Shape of target labels...\n"
     ]
    },
    {
     "data": {
      "text/plain": [
       "(19418,)"
      ]
     },
     "metadata": {},
     "output_type": "display_data"
    },
    {
     "name": "stdout",
     "output_type": "stream",
     "text": [
      "Save target labels...\n"
     ]
    }
   ],
   "source": [
    "print('Shape of target labels...')\n",
    "display(all_docs.labels.shape)\n",
    "target_labels = all_docs.labels\n",
    "\n",
    "print('Save target labels...')\n",
    "target_labels.to_csv(os.path.join(dir_path, 'target_labels.csv'), index=False, header=True)"
   ]
  },
  {
   "cell_type": "markdown",
   "metadata": {},
   "source": [
    "# Prepare the Classification Model"
   ]
  },
  {
   "cell_type": "markdown",
   "metadata": {},
   "source": [
    "Now, we've prepared all the necessary ingredients - different types of features. Let's experiment to observe their effect on classification performance. Here, I'll use **basic logistic model** as the base model and feed in different kind of features created earlier. Hence, to compare their effectiveness.\n",
    "\n",
    "In addition to compare effects of each word embedding averaging method, I also try to **concatenate word2vec and doc2vec** together, and see if it can boost up the performance even more.\n",
    "\n",
    "I used TF-IDF weighted word embedding and PV-DM doc2vec together. The result shows that it increases the accuracy on training dataset (perhaps a sign of over-fitting?), but not so significant improvement on testing dataset compared using TF-IDF word2vec alone."
   ]
  },
  {
   "cell_type": "code",
   "execution_count": 74,
   "metadata": {},
   "outputs": [],
   "source": [
    "import os\n",
    "\n",
    "# Read in saved files.\n",
    "dir_path = '../dataset'\n",
    "\n",
    "doc_vec = pd.read_csv(os.path.join(dir_path, 'doc_vec.csv'), header=None)\n",
    "tfidf_doc_vec = pd.read_csv(os.path.join(dir_path, 'tfidf_doc_vec.csv'), header=None)\n",
    "glove_doc_vec = pd.read_csv(os.path.join(dir_path, 'glove_doc_vec.csv'), header=None)\n",
    "dm_doc_vec = pd.read_csv(os.path.join(dir_path, 'dm_doc_vec.csv'), header=None)\n",
    "target_labels = pd.read_csv(os.path.join(dir_path, 'target_labels.csv'), header=0)"
   ]
  },
  {
   "cell_type": "markdown",
   "metadata": {},
   "source": [
    "## Set up Model"
   ]
  },
  {
   "cell_type": "code",
   "execution_count": 53,
   "metadata": {},
   "outputs": [],
   "source": [
    "from sklearn.linear_model import LogisticRegression\n",
    "\n",
    "\n",
    "# Classification via Logistic Model\n",
    "logistic = LogisticRegression(random_state=1, multi_class='multinomial', solver='saga')"
   ]
  },
  {
   "cell_type": "code",
   "execution_count": null,
   "metadata": {},
   "outputs": [],
   "source": [
    "from sklearn.linear_model import SGDClassifier\n",
    "\n",
    "# (Optional) Classification via stochastic gradient descent classifier.\n",
    "sgd = SGDClassifier(loss='hinge',\n",
    "                    penality='l2',\n",
    "                    verbose=1,\n",
    "                    random_state=1,\n",
    "                    learning_rate='invscaling',\n",
    "                    eta0=1)"
   ]
  },
  {
   "cell_type": "markdown",
   "metadata": {},
   "source": [
    "## (Demo) Hyper-Parameters"
   ]
  },
  {
   "cell_type": "code",
   "execution_count": 54,
   "metadata": {},
   "outputs": [],
   "source": [
    "model = logistic  # or choose sgd.\n",
    "df = tfidf_doc_vec\n",
    "concate = False\n",
    "concat_df = dm_doc_vec"
   ]
  },
  {
   "cell_type": "markdown",
   "metadata": {},
   "source": [
    "## Define Train Function"
   ]
  },
  {
   "cell_type": "code",
   "execution_count": 55,
   "metadata": {},
   "outputs": [],
   "source": [
    "from UtilTextClassification import split_size\n",
    "from sklearn.model_selection import train_test_split\n",
    "\n",
    "\n",
    "\n",
    "\n",
    "def main(model, df, concate, concat_df):\n",
    "    if concate:\n",
    "        df = pd.concat([df, concat_df], axis=1, ignore_index=True)\n",
    "    else:\n",
    "        df = df\n",
    "\n",
    "    # Specify train/valid/test size.\n",
    "    train_size, valid_size, test_size = split_size(df, train=0.7, valid=0.)  # no need to use valid dataset here\n",
    "    # Prepare test dataset.\n",
    "    train_X, test_X, train_y, test_y = train_test_split(df,\n",
    "                                                    target_labels,\n",
    "                                                    test_size=test_size,\n",
    "                                                    random_state=1,\n",
    "                                                    stratify=target_labels)\n",
    "\n",
    "    # Prepare valid dataset.\n",
    "    if valid_size != 0:\n",
    "        train_X, valid_X, train_y, valid_y = train_test_split(train_X,\n",
    "                                                      train_y,\n",
    "                                                      test_size=valid_size,\n",
    "                                                      random_state=1,\n",
    "                                                      stratify=train_y)\n",
    "    \n",
    "    print('Shape of train_X: {}'.format(train_X.shape))\n",
    "    print('Shape of valid_X: {}'.format(valid_X.shape if 'valid_X' in vars() else (0,0)))\n",
    "    print('Shape of text_X: {}'.format(test_X.shape))\n",
    "    \n",
    "    model.fit(train_X, train_y)\n",
    "    \n",
    "    if valid_size != 0:\n",
    "        return model, train_X, valid_X, test_X, train_y, valid_y, test_y\n",
    "    else:\n",
    "        return model, train_X, None, test_X, train_y, None, test_y"
   ]
  },
  {
   "cell_type": "markdown",
   "metadata": {},
   "source": [
    "# Test Model"
   ]
  },
  {
   "cell_type": "markdown",
   "metadata": {},
   "source": [
    "## Performance on Simple Averaging Word Vector"
   ]
  },
  {
   "cell_type": "markdown",
   "metadata": {},
   "source": [
    "### Hyper-Parameters"
   ]
  },
  {
   "cell_type": "code",
   "execution_count": 56,
   "metadata": {},
   "outputs": [],
   "source": [
    "model = logistic  # or choose sgd.\n",
    "df = doc_vec\n",
    "concate = False\n",
    "concat_df = dm_doc_vec  # not used if concate=False"
   ]
  },
  {
   "cell_type": "markdown",
   "metadata": {},
   "source": [
    "### Train"
   ]
  },
  {
   "cell_type": "code",
   "execution_count": 57,
   "metadata": {},
   "outputs": [
    {
     "name": "stdout",
     "output_type": "stream",
     "text": [
      "Shape of train_X: (13592, 100)\n",
      "Shape of valid_X: (0, 0)\n",
      "Shape of text_X: (5826, 100)\n"
     ]
    }
   ],
   "source": [
    "# __main__\n",
    "clf, train_X, valid_X, test_X, train_y, valid_y, test_y = main(model, \n",
    "                                                               df, \n",
    "                                                               concate=concate, \n",
    "                                                               concat_df=concat_df)"
   ]
  },
  {
   "cell_type": "markdown",
   "metadata": {},
   "source": [
    "### Test on Training Dataset"
   ]
  },
  {
   "cell_type": "code",
   "execution_count": 58,
   "metadata": {},
   "outputs": [
    {
     "name": "stdout",
     "output_type": "stream",
     "text": [
      "Performance of Mean Word Vector on training dataset...\n",
      "Score on dataset...\n",
      "\n",
      "Confusion Matrix:\n",
      " [[1594   28    3   62   14   17   24   33   11   13]\n",
      " [  15  902    1  119   38   40   48   37   32   43]\n",
      " [  25    3   54    6    0    1    4    8    3    7]\n",
      " [  43  103    1 1136   44  106   90   63   22   63]\n",
      " [  14   21    1   41 1067   58   23  127   74   44]\n",
      " [  33   35    2  138   76  749  101   82   35  117]\n",
      " [  38   40    4  136   29  109  875   49   14   83]\n",
      " [  35   25    4   82  109   38   14 1393   54   12]\n",
      " [   8   24    2   34   88   22    8   46 1341   12]\n",
      " [   9   30    2   42   18  106   34   13   14  902]]\n",
      "\n",
      "Classification Report:\n",
      "                      precision    recall  f1-score   support\n",
      "\n",
      "       Barack Obama       0.88      0.89      0.88      1799\n",
      "  Cristiano Ronaldo       0.74      0.71      0.73      1275\n",
      "    Donald J. Trump       0.73      0.49      0.58       111\n",
      "    Ellen DeGeneres       0.63      0.68      0.66      1671\n",
      "          Elon Musk       0.72      0.73      0.72      1470\n",
      "         KATY PERRY       0.60      0.55      0.57      1368\n",
      "Kim Kardashian West       0.72      0.64      0.67      1377\n",
      "Neil deGrasse Tyson       0.75      0.79      0.77      1766\n",
      "    Sebastian Ruder       0.84      0.85      0.84      1585\n",
      "         Snoop Dogg       0.70      0.77      0.73      1170\n",
      "\n",
      "           accuracy                           0.74     13592\n",
      "          macro avg       0.73      0.71      0.72     13592\n",
      "       weighted avg       0.74      0.74      0.74     13592\n",
      "\n",
      "\n",
      "accuracy: 0.737\n",
      "f1 score: 0.736\n"
     ]
    }
   ],
   "source": [
    "from UtilTextClassification import sk_evaluate\n",
    "\n",
    "\n",
    "# Score on valid dataset.\n",
    "print('Performance of Mean Word Vector on training dataset...')\n",
    "_, _ = sk_evaluate(clf, train_X, train_y, label_names=None)"
   ]
  },
  {
   "cell_type": "markdown",
   "metadata": {},
   "source": [
    "### Test on Testing Dataset"
   ]
  },
  {
   "cell_type": "code",
   "execution_count": 59,
   "metadata": {},
   "outputs": [
    {
     "name": "stdout",
     "output_type": "stream",
     "text": [
      "Performance of Mean Word Vector on testing dataset...\n",
      "Score on dataset...\n",
      "\n",
      "Confusion Matrix:\n",
      " [[677  14   4  22   4   9  12  16   6   7]\n",
      " [ 11 387   0  46  11  21  13  19  19  19]\n",
      " [ 10   1  22   1   0   1   0   8   1   4]\n",
      " [ 18  46   1 467  29  52  39  34  12  19]\n",
      " [  5  11   0  24 451  30   8  50  41  10]\n",
      " [ 16  17   6  57  33 328  37  29  12  51]\n",
      " [ 18  17   1  69  12  35 362  22   7  47]\n",
      " [ 22   9   1  32  53  12  16 587  21   4]\n",
      " [  3  10   0  14  33  15   6  26 569   4]\n",
      " [  9   9   0  18   7  71  18   2   6 361]]\n",
      "\n",
      "Classification Report:\n",
      "                      precision    recall  f1-score   support\n",
      "\n",
      "       Barack Obama       0.86      0.88      0.87       771\n",
      "  Cristiano Ronaldo       0.74      0.71      0.73       546\n",
      "    Donald J. Trump       0.63      0.46      0.53        48\n",
      "    Ellen DeGeneres       0.62      0.65      0.64       717\n",
      "          Elon Musk       0.71      0.72      0.71       630\n",
      "         KATY PERRY       0.57      0.56      0.57       586\n",
      "Kim Kardashian West       0.71      0.61      0.66       590\n",
      "Neil deGrasse Tyson       0.74      0.78      0.76       757\n",
      "    Sebastian Ruder       0.82      0.84      0.83       680\n",
      "         Snoop Dogg       0.69      0.72      0.70       501\n",
      "\n",
      "           accuracy                           0.72      5826\n",
      "          macro avg       0.71      0.69      0.70      5826\n",
      "       weighted avg       0.72      0.72      0.72      5826\n",
      "\n",
      "\n",
      "accuracy: 0.723\n",
      "f1 score: 0.722\n"
     ]
    }
   ],
   "source": [
    "# Score on test dataset.\n",
    "print('Performance of Mean Word Vector on testing dataset...')\n",
    "_, _ = sk_evaluate(clf, test_X, test_y, label_names=None)"
   ]
  },
  {
   "cell_type": "markdown",
   "metadata": {},
   "source": [
    "## Performance on Tf-Idf Weighted Averaging Word Vector"
   ]
  },
  {
   "cell_type": "markdown",
   "metadata": {},
   "source": [
    "### Hyper-Parameters"
   ]
  },
  {
   "cell_type": "code",
   "execution_count": 60,
   "metadata": {},
   "outputs": [],
   "source": [
    "model = logistic  # or choose sgd.\n",
    "df = tfidf_doc_vec\n",
    "concate = False\n",
    "concat_df = dm_doc_vec"
   ]
  },
  {
   "cell_type": "markdown",
   "metadata": {},
   "source": [
    "### Train"
   ]
  },
  {
   "cell_type": "code",
   "execution_count": 61,
   "metadata": {},
   "outputs": [
    {
     "name": "stdout",
     "output_type": "stream",
     "text": [
      "Shape of train_X: (13592, 100)\n",
      "Shape of valid_X: (0, 0)\n",
      "Shape of text_X: (5826, 100)\n"
     ]
    }
   ],
   "source": [
    "# __main__\n",
    "clf, train_X, valid_X, test_X, train_y, valid_y, test_y = main(model, \n",
    "                                                               df, \n",
    "                                                               concate=concate, \n",
    "                                                               concat_df=concat_df)"
   ]
  },
  {
   "cell_type": "markdown",
   "metadata": {},
   "source": [
    "### Test on Training Dataset"
   ]
  },
  {
   "cell_type": "code",
   "execution_count": 62,
   "metadata": {},
   "outputs": [
    {
     "name": "stdout",
     "output_type": "stream",
     "text": [
      "Performance of Tf-Idf Mean Word Vector on training dataset...\n",
      "Score on dataset...\n",
      "\n",
      "Confusion Matrix:\n",
      " [[1589   27    2   68   17   22   18   32   11   13]\n",
      " [  18  916    0  112   33   41   48   34   28   45]\n",
      " [  20    2   56    4    3    1    3    8    7    7]\n",
      " [  45   98    3 1117   53   92   93   74   24   72]\n",
      " [  22   25    3   46 1052   44   25  122   83   48]\n",
      " [  32   45    2  143   73  736  104   72   36  125]\n",
      " [  36   45    3  140   32  110  873   45   15   78]\n",
      " [  43   23    4   68   94   52   20 1384   61   17]\n",
      " [   9   28    2   32   83   18    9   45 1338   21]\n",
      " [  11   27    2   46   12  102   34   18   13  905]]\n",
      "\n",
      "Classification Report:\n",
      "                      precision    recall  f1-score   support\n",
      "\n",
      "       Barack Obama       0.87      0.88      0.88      1799\n",
      "  Cristiano Ronaldo       0.74      0.72      0.73      1275\n",
      "    Donald J. Trump       0.73      0.50      0.60       111\n",
      "    Ellen DeGeneres       0.63      0.67      0.65      1671\n",
      "          Elon Musk       0.72      0.72      0.72      1470\n",
      "         KATY PERRY       0.60      0.54      0.57      1368\n",
      "Kim Kardashian West       0.71      0.63      0.67      1377\n",
      "Neil deGrasse Tyson       0.75      0.78      0.77      1766\n",
      "    Sebastian Ruder       0.83      0.84      0.84      1585\n",
      "         Snoop Dogg       0.68      0.77      0.72      1170\n",
      "\n",
      "           accuracy                           0.73     13592\n",
      "          macro avg       0.73      0.71      0.71     13592\n",
      "       weighted avg       0.73      0.73      0.73     13592\n",
      "\n",
      "\n",
      "accuracy: 0.733\n",
      "f1 score: 0.732\n"
     ]
    }
   ],
   "source": [
    "from UtilTextClassification import sk_evaluate\n",
    "\n",
    "\n",
    "# Score on valid dataset.\n",
    "print('Performance of Tf-Idf Mean Word Vector on training dataset...')\n",
    "_, _ = sk_evaluate(clf, train_X, train_y, label_names=None)"
   ]
  },
  {
   "cell_type": "markdown",
   "metadata": {},
   "source": [
    "### Test on Testing Dataset"
   ]
  },
  {
   "cell_type": "code",
   "execution_count": 63,
   "metadata": {},
   "outputs": [
    {
     "name": "stdout",
     "output_type": "stream",
     "text": [
      "Performance of Tf-Idf Mean Word Vector on testing dataset...\n",
      "Score on dataset...\n",
      "\n",
      "Confusion Matrix:\n",
      " [[673  16   3  20   7  11   9  16   6  10]\n",
      " [  6 390   0  43   8  24  19  21  17  18]\n",
      " [  8   0  22   1   1   0   0  10   2   4]\n",
      " [ 19  45   0 454  30  47  43  39  10  30]\n",
      " [  5  14   1  26 435  23   9  51  41  25]\n",
      " [ 18  22   6  58  37 310  35  27  12  61]\n",
      " [ 18  15   1  70  11  40 357  25   7  46]\n",
      " [ 24  11   0  34  55  11  19 574  22   7]\n",
      " [  2  12   0  15  34  14   6  24 569   4]\n",
      " [  8   9   0  18  11  62  18   4   5 366]]\n",
      "\n",
      "Classification Report:\n",
      "                      precision    recall  f1-score   support\n",
      "\n",
      "       Barack Obama       0.86      0.87      0.87       771\n",
      "  Cristiano Ronaldo       0.73      0.71      0.72       546\n",
      "    Donald J. Trump       0.67      0.46      0.54        48\n",
      "    Ellen DeGeneres       0.61      0.63      0.62       717\n",
      "          Elon Musk       0.69      0.69      0.69       630\n",
      "         KATY PERRY       0.57      0.53      0.55       586\n",
      "Kim Kardashian West       0.69      0.61      0.65       590\n",
      "Neil deGrasse Tyson       0.73      0.76      0.74       757\n",
      "    Sebastian Ruder       0.82      0.84      0.83       680\n",
      "         Snoop Dogg       0.64      0.73      0.68       501\n",
      "\n",
      "           accuracy                           0.71      5826\n",
      "          macro avg       0.70      0.68      0.69      5826\n",
      "       weighted avg       0.71      0.71      0.71      5826\n",
      "\n",
      "\n",
      "accuracy: 0.712\n",
      "f1 score: 0.711\n"
     ]
    }
   ],
   "source": [
    "# Score on test dataset.\n",
    "print('Performance of Tf-Idf Mean Word Vector on testing dataset...')\n",
    "_, _ = sk_evaluate(clf, test_X, test_y, label_names=None)"
   ]
  },
  {
   "cell_type": "markdown",
   "metadata": {},
   "source": [
    "## Performance on Simple Averaging of GloVe Word Vector"
   ]
  },
  {
   "cell_type": "markdown",
   "metadata": {},
   "source": [
    "### Hyper-Parameters"
   ]
  },
  {
   "cell_type": "code",
   "execution_count": 64,
   "metadata": {},
   "outputs": [],
   "source": [
    "model = logistic  # or choose sgd.\n",
    "df = glove_doc_vec\n",
    "concate = False\n",
    "concat_df = dm_doc_vec"
   ]
  },
  {
   "cell_type": "markdown",
   "metadata": {},
   "source": [
    "### Train"
   ]
  },
  {
   "cell_type": "code",
   "execution_count": 65,
   "metadata": {},
   "outputs": [
    {
     "name": "stdout",
     "output_type": "stream",
     "text": [
      "Shape of train_X: (13592, 100)\n",
      "Shape of valid_X: (0, 0)\n",
      "Shape of text_X: (5826, 100)\n"
     ]
    }
   ],
   "source": [
    "# __main__\n",
    "clf, train_X, valid_X, test_X, train_y, valid_y, test_y = main(model, \n",
    "                                                               df, \n",
    "                                                               concate=concate, \n",
    "                                                               concat_df=concat_df)"
   ]
  },
  {
   "cell_type": "markdown",
   "metadata": {},
   "source": [
    "### Test on Training Dataset"
   ]
  },
  {
   "cell_type": "code",
   "execution_count": 66,
   "metadata": {},
   "outputs": [
    {
     "name": "stdout",
     "output_type": "stream",
     "text": [
      "Performance of GloVe Mean Word Vector on training dataset...\n",
      "Score on dataset...\n",
      "\n",
      "Confusion Matrix:\n",
      " [[1467   39    5   95   23   19   28   57   34   32]\n",
      " [  44  861    0  118   31   38   60   26   52   45]\n",
      " [  46    0   23    8    3    0    6   11    6    8]\n",
      " [  52  106    1 1068   45  115  110   75   43   56]\n",
      " [  31   37    2   53  919   57   32  168  141   30]\n",
      " [  52   62    1  163   92  619  107   97   56  119]\n",
      " [  62   46    0  167   26  116  768   54   41   97]\n",
      " [  70   28    2  101  156   45   33 1188  124   19]\n",
      " [  30   40    0   42  128   26   20   88 1196   15]\n",
      " [  18   27    1   72   26   94   52   13   19  848]]\n",
      "\n",
      "Classification Report:\n",
      "                      precision    recall  f1-score   support\n",
      "\n",
      "       Barack Obama       0.78      0.82      0.80      1799\n",
      "  Cristiano Ronaldo       0.69      0.68      0.68      1275\n",
      "    Donald J. Trump       0.66      0.21      0.32       111\n",
      "    Ellen DeGeneres       0.57      0.64      0.60      1671\n",
      "          Elon Musk       0.63      0.63      0.63      1470\n",
      "         KATY PERRY       0.55      0.45      0.50      1368\n",
      "Kim Kardashian West       0.63      0.56      0.59      1377\n",
      "Neil deGrasse Tyson       0.67      0.67      0.67      1766\n",
      "    Sebastian Ruder       0.70      0.75      0.73      1585\n",
      "         Snoop Dogg       0.67      0.72      0.70      1170\n",
      "\n",
      "           accuracy                           0.66     13592\n",
      "          macro avg       0.65      0.61      0.62     13592\n",
      "       weighted avg       0.66      0.66      0.66     13592\n",
      "\n",
      "\n",
      "accuracy: 0.659\n",
      "f1 score: 0.656\n"
     ]
    }
   ],
   "source": [
    "from UtilTextClassification import sk_evaluate\n",
    "\n",
    "\n",
    "# Score on valid dataset.\n",
    "print('Performance of GloVe Mean Word Vector on training dataset...')\n",
    "_, _ = sk_evaluate(clf, train_X, train_y, label_names=None)"
   ]
  },
  {
   "cell_type": "markdown",
   "metadata": {},
   "source": [
    "### Test on Testing Dataset"
   ]
  },
  {
   "cell_type": "code",
   "execution_count": 67,
   "metadata": {},
   "outputs": [
    {
     "name": "stdout",
     "output_type": "stream",
     "text": [
      "Performance of GloVe Mean Word Vector on testing dataset...\n",
      "Score on dataset...\n",
      "\n",
      "Confusion Matrix:\n",
      " [[636  23   0  30  10  14  13  20  17   8]\n",
      " [ 16 370   2  46  18  12  20  10  30  22]\n",
      " [ 20   1   7   5   1   0   0   9   2   3]\n",
      " [ 29  50   0 424  29  39  51  37  24  34]\n",
      " [ 11  22   2  31 384  22  13  57  74  14]\n",
      " [ 28  24   0  77  37 259  41  40  27  53]\n",
      " [ 27  19   1  84   7  58 305  23  18  48]\n",
      " [ 31  16   0  45  62  20  18 507  52   6]\n",
      " [  7  13   1  19  63  14   6  38 516   3]\n",
      " [  8  14   0  31   9  52  23  13  12 339]]\n",
      "\n",
      "Classification Report:\n",
      "                      precision    recall  f1-score   support\n",
      "\n",
      "       Barack Obama       0.78      0.82      0.80       771\n",
      "  Cristiano Ronaldo       0.67      0.68      0.67       546\n",
      "    Donald J. Trump       0.54      0.15      0.23        48\n",
      "    Ellen DeGeneres       0.54      0.59      0.56       717\n",
      "          Elon Musk       0.62      0.61      0.61       630\n",
      "         KATY PERRY       0.53      0.44      0.48       586\n",
      "Kim Kardashian West       0.62      0.52      0.56       590\n",
      "Neil deGrasse Tyson       0.67      0.67      0.67       757\n",
      "    Sebastian Ruder       0.67      0.76      0.71       680\n",
      "         Snoop Dogg       0.64      0.68      0.66       501\n",
      "\n",
      "           accuracy                           0.64      5826\n",
      "          macro avg       0.63      0.59      0.60      5826\n",
      "       weighted avg       0.64      0.64      0.64      5826\n",
      "\n",
      "\n",
      "accuracy: 0.643\n",
      "f1 score: 0.639\n"
     ]
    }
   ],
   "source": [
    "# Score on test dataset.\n",
    "print('Performance of GloVe Mean Word Vector on testing dataset...')\n",
    "_, _ = sk_evaluate(clf, test_X, test_y, label_names=None)"
   ]
  },
  {
   "cell_type": "markdown",
   "metadata": {},
   "source": [
    "## Performance on PV-DM Doc2vec"
   ]
  },
  {
   "cell_type": "markdown",
   "metadata": {},
   "source": [
    "### Hyper-Parameters"
   ]
  },
  {
   "cell_type": "code",
   "execution_count": 68,
   "metadata": {},
   "outputs": [],
   "source": [
    "model = logistic  # or choose sgd.\n",
    "df = dm_doc_vec\n",
    "concate = False\n",
    "concat_df = dm_doc_vec"
   ]
  },
  {
   "cell_type": "markdown",
   "metadata": {},
   "source": [
    "### Train"
   ]
  },
  {
   "cell_type": "code",
   "execution_count": 69,
   "metadata": {},
   "outputs": [
    {
     "name": "stdout",
     "output_type": "stream",
     "text": [
      "Shape of train_X: (13592, 100)\n",
      "Shape of valid_X: (0, 0)\n",
      "Shape of text_X: (5826, 100)\n"
     ]
    }
   ],
   "source": [
    "# __main__\n",
    "clf, train_X, valid_X, test_X, train_y, valid_y, test_y = main(model, \n",
    "                                                               df, \n",
    "                                                               concate=concate, \n",
    "                                                               concat_df=concat_df)"
   ]
  },
  {
   "cell_type": "markdown",
   "metadata": {},
   "source": [
    "### Test on Training Dataset"
   ]
  },
  {
   "cell_type": "code",
   "execution_count": 70,
   "metadata": {},
   "outputs": [
    {
     "name": "stdout",
     "output_type": "stream",
     "text": [
      "Performance of Doc2vec on training dataset...\n",
      "Score on dataset...\n",
      "\n",
      "Confusion Matrix:\n",
      " [[1083   97   10  117   51   50   76  162   72   81]\n",
      " [ 120  687    0  128   60   48   63   67   41   61]\n",
      " [  33    4   43    3    3    6    3    6    4    6]\n",
      " [ 146   93    2  985   62   79   80  106   42   76]\n",
      " [  55   35    1   43  956   74   50  144   86   26]\n",
      " [  83   41    1  113   84  694  107  100   42  103]\n",
      " [ 134   67    1  141   61  156  607   78   52   80]\n",
      " [ 138   39    4   94  142   53   56 1142   68   30]\n",
      " [  68   33    0   41  103   46   27   63 1175   29]\n",
      " [  42   37    0   58   21   97   55   12   32  816]]\n",
      "\n",
      "Classification Report:\n",
      "                      precision    recall  f1-score   support\n",
      "\n",
      "       Barack Obama       0.57      0.60      0.59      1799\n",
      "  Cristiano Ronaldo       0.61      0.54      0.57      1275\n",
      "    Donald J. Trump       0.69      0.39      0.50       111\n",
      "    Ellen DeGeneres       0.57      0.59      0.58      1671\n",
      "          Elon Musk       0.62      0.65      0.63      1470\n",
      "         KATY PERRY       0.53      0.51      0.52      1368\n",
      "Kim Kardashian West       0.54      0.44      0.49      1377\n",
      "Neil deGrasse Tyson       0.61      0.65      0.63      1766\n",
      "    Sebastian Ruder       0.73      0.74      0.73      1585\n",
      "         Snoop Dogg       0.62      0.70      0.66      1170\n",
      "\n",
      "           accuracy                           0.60     13592\n",
      "          macro avg       0.61      0.58      0.59     13592\n",
      "       weighted avg       0.60      0.60      0.60     13592\n",
      "\n",
      "\n",
      "accuracy: 0.602\n",
      "f1 score: 0.600\n"
     ]
    }
   ],
   "source": [
    "from UtilTextClassification import sk_evaluate\n",
    "\n",
    "\n",
    "# Score on valid dataset.\n",
    "print('Performance of Doc2vec on training dataset...')\n",
    "_, _ = sk_evaluate(clf, train_X, train_y, label_names=None)"
   ]
  },
  {
   "cell_type": "markdown",
   "metadata": {},
   "source": [
    "### Test on Testing Dataset"
   ]
  },
  {
   "cell_type": "code",
   "execution_count": 71,
   "metadata": {},
   "outputs": [
    {
     "name": "stdout",
     "output_type": "stream",
     "text": [
      "Performance of Doc2vec on testing dataset...\n",
      "Score on dataset...\n",
      "\n",
      "Confusion Matrix:\n",
      " [[476  37   9  40  21  25  31  73  29  30]\n",
      " [ 61 281   1  47  28  25  28  27  21  27]\n",
      " [ 22   1   7   4   3   3   1   4   1   2]\n",
      " [ 58  43   2 419  23  43  40  47  18  24]\n",
      " [ 26  13   0  23 415  36  24  48  38   7]\n",
      " [ 46  23   3  50  42 286  37  44  15  40]\n",
      " [ 67  29   0  66  19  80 233  36  27  33]\n",
      " [ 66  24   2  26  65  17  26 483  38  10]\n",
      " [ 33  21   1  26  50  24  22  31 461  11]\n",
      " [ 29  15   1  28  10  53  22   4  16 323]]\n",
      "\n",
      "Classification Report:\n",
      "                      precision    recall  f1-score   support\n",
      "\n",
      "       Barack Obama       0.54      0.62      0.58       771\n",
      "  Cristiano Ronaldo       0.58      0.51      0.54       546\n",
      "    Donald J. Trump       0.27      0.15      0.19        48\n",
      "    Ellen DeGeneres       0.57      0.58      0.58       717\n",
      "          Elon Musk       0.61      0.66      0.64       630\n",
      "         KATY PERRY       0.48      0.49      0.49       586\n",
      "Kim Kardashian West       0.50      0.39      0.44       590\n",
      "Neil deGrasse Tyson       0.61      0.64      0.62       757\n",
      "    Sebastian Ruder       0.69      0.68      0.69       680\n",
      "         Snoop Dogg       0.64      0.64      0.64       501\n",
      "\n",
      "           accuracy                           0.58      5826\n",
      "          macro avg       0.55      0.54      0.54      5826\n",
      "       weighted avg       0.58      0.58      0.58      5826\n",
      "\n",
      "\n",
      "accuracy: 0.581\n",
      "f1 score: 0.578\n"
     ]
    }
   ],
   "source": [
    "# Score on test dataset.\n",
    "print('Performance of Doc2vec on testing dataset...')\n",
    "_, _ = sk_evaluate(clf, test_X, test_y, label_names=None)"
   ]
  },
  {
   "cell_type": "markdown",
   "metadata": {},
   "source": [
    "## Performance on Tf-Idf and Doc2vec Concatenated Feature"
   ]
  },
  {
   "cell_type": "markdown",
   "metadata": {},
   "source": [
    "### Hyper-Parameters"
   ]
  },
  {
   "cell_type": "code",
   "execution_count": 75,
   "metadata": {},
   "outputs": [],
   "source": [
    "model = logistic  # or choose sgd.\n",
    "df = tfidf_doc_vec\n",
    "concate = True  # set to True.\n",
    "concat_df = dm_doc_vec"
   ]
  },
  {
   "cell_type": "markdown",
   "metadata": {},
   "source": [
    "### Train"
   ]
  },
  {
   "cell_type": "code",
   "execution_count": 76,
   "metadata": {},
   "outputs": [
    {
     "name": "stdout",
     "output_type": "stream",
     "text": [
      "Shape of train_X: (13592, 200)\n",
      "Shape of valid_X: (0, 0)\n",
      "Shape of text_X: (5826, 200)\n"
     ]
    }
   ],
   "source": [
    "# __main__\n",
    "clf, train_X, valid_X, test_X, train_y, valid_y, test_y = main(model, \n",
    "                                                               df, \n",
    "                                                               concate=concate, \n",
    "                                                               concat_df=concat_df)"
   ]
  },
  {
   "cell_type": "markdown",
   "metadata": {},
   "source": [
    "### Test on Training Dataset"
   ]
  },
  {
   "cell_type": "code",
   "execution_count": 77,
   "metadata": {},
   "outputs": [
    {
     "name": "stdout",
     "output_type": "stream",
     "text": [
      "Performance of Tf-Idf Mean Word Vector and Doc2vec Combined on training dataset...\n",
      "Score on dataset...\n",
      "\n",
      "Confusion Matrix:\n",
      " [[1610   28    3   62   12   13   17   22   11   21]\n",
      " [  15  935    0  109   39   41   37   27   29   43]\n",
      " [  23    3   64    4    1    1    2    4    2    7]\n",
      " [  41   86    1 1222   36   67   70   67   23   58]\n",
      " [  15   21    2   35 1081   58   23  120   77   38]\n",
      " [  39   38    2  129   80  800   84   57   33  106]\n",
      " [  36   37    3  119   18  101  926   38   14   85]\n",
      " [  34   22    4   70  103   35   15 1422   49   12]\n",
      " [   8   22    2   20   74   26    8   47 1365   13]\n",
      " [  10   31    2   32   19   77   36   15   10  938]]\n",
      "\n",
      "Classification Report:\n",
      "                      precision    recall  f1-score   support\n",
      "\n",
      "       Barack Obama       0.88      0.89      0.89      1799\n",
      "  Cristiano Ronaldo       0.76      0.73      0.75      1275\n",
      "    Donald J. Trump       0.77      0.58      0.66       111\n",
      "    Ellen DeGeneres       0.68      0.73      0.70      1671\n",
      "          Elon Musk       0.74      0.74      0.74      1470\n",
      "         KATY PERRY       0.66      0.58      0.62      1368\n",
      "Kim Kardashian West       0.76      0.67      0.71      1377\n",
      "Neil deGrasse Tyson       0.78      0.81      0.79      1766\n",
      "    Sebastian Ruder       0.85      0.86      0.85      1585\n",
      "         Snoop Dogg       0.71      0.80      0.75      1170\n",
      "\n",
      "           accuracy                           0.76     13592\n",
      "          macro avg       0.76      0.74      0.75     13592\n",
      "       weighted avg       0.76      0.76      0.76     13592\n",
      "\n",
      "\n",
      "accuracy: 0.762\n",
      "f1 score: 0.761\n"
     ]
    }
   ],
   "source": [
    "from UtilTextClassification import sk_evaluate\n",
    "\n",
    "\n",
    "# Score on valid dataset.\n",
    "print('Performance of Tf-Idf Mean Word Vector and Doc2vec Combined on training dataset...')\n",
    "_, _ = sk_evaluate(clf, train_X, train_y, label_names=None)"
   ]
  },
  {
   "cell_type": "markdown",
   "metadata": {},
   "source": [
    "### Test on Testing Dataset"
   ]
  },
  {
   "cell_type": "code",
   "execution_count": 78,
   "metadata": {},
   "outputs": [
    {
     "name": "stdout",
     "output_type": "stream",
     "text": [
      "Performance of Tf-Idf Mean Word Vector and Doc2vec Combined on testing dataset...\n",
      "Score on dataset...\n",
      "\n",
      "Confusion Matrix:\n",
      " [[683  18   0  20   4   8  13  13   4   8]\n",
      " [ 12 385   0  50  10  22  16  16  15  20]\n",
      " [  9   0  21   1   1   1   0   8   2   5]\n",
      " [ 30  43   0 470  23  37  41  32  14  27]\n",
      " [  5  10   1  20 458  24  10  42  45  15]\n",
      " [ 19  14   3  52  28 334  40  31  13  52]\n",
      " [ 22  18   1  52   9  49 364  17  11  47]\n",
      " [ 22   7   1  27  60  11  15 587  22   5]\n",
      " [  5   7   0  15  27  13   6  23 578   6]\n",
      " [  8   8   2  16   8  56  14   6   7 376]]\n",
      "\n",
      "Classification Report:\n",
      "                      precision    recall  f1-score   support\n",
      "\n",
      "       Barack Obama       0.84      0.89      0.86       771\n",
      "  Cristiano Ronaldo       0.75      0.71      0.73       546\n",
      "    Donald J. Trump       0.72      0.44      0.55        48\n",
      "    Ellen DeGeneres       0.65      0.66      0.65       717\n",
      "          Elon Musk       0.73      0.73      0.73       630\n",
      "         KATY PERRY       0.60      0.57      0.59       586\n",
      "Kim Kardashian West       0.70      0.62      0.66       590\n",
      "Neil deGrasse Tyson       0.76      0.78      0.77       757\n",
      "    Sebastian Ruder       0.81      0.85      0.83       680\n",
      "         Snoop Dogg       0.67      0.75      0.71       501\n",
      "\n",
      "           accuracy                           0.73      5826\n",
      "          macro avg       0.72      0.70      0.71      5826\n",
      "       weighted avg       0.73      0.73      0.73      5826\n",
      "\n",
      "\n",
      "accuracy: 0.731\n",
      "f1 score: 0.729\n"
     ]
    }
   ],
   "source": [
    "# Score on test dataset.\n",
    "print('Performance of Tf-Idf Mean Word Vector and Doc2vec Combined on testing dataset...')\n",
    "_, _ = sk_evaluate(clf, test_X, test_y, label_names=None)"
   ]
  }
 ],
 "metadata": {
  "kernelspec": {
   "display_name": "Python 3",
   "language": "python",
   "name": "python3"
  },
  "language_info": {
   "codemirror_mode": {
    "name": "ipython",
    "version": 3
   },
   "file_extension": ".py",
   "mimetype": "text/x-python",
   "name": "python",
   "nbconvert_exporter": "python",
   "pygments_lexer": "ipython3",
   "version": "3.7.4"
  },
  "toc": {
   "base_numbering": 1,
   "nav_menu": {},
   "number_sections": true,
   "sideBar": true,
   "skip_h1_title": false,
   "title_cell": "Table of Contents",
   "title_sidebar": "Contents",
   "toc_cell": false,
   "toc_position": {},
   "toc_section_display": true,
   "toc_window_display": false
  }
 },
 "nbformat": 4,
 "nbformat_minor": 2
}
